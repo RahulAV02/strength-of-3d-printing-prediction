{
  "nbformat": 4,
  "nbformat_minor": 0,
  "metadata": {
    "colab": {
      "provenance": []
    },
    "kernelspec": {
      "name": "python3",
      "display_name": "Python 3"
    },
    "language_info": {
      "name": "python"
    }
  },
  "cells": [
    {
      "cell_type": "code",
      "execution_count": null,
      "metadata": {
        "id": "Dc-Vijc1Vv8c"
      },
      "outputs": [],
      "source": [
        "# Import the required libraries:\n",
        "import pandas as pd\n",
        "import numpy as np\n",
        "import matplotlib.pyplot as plt\n",
        "from sklearn import linear_model"
      ]
    },
    {
      "cell_type": "code",
      "source": [
        "# Read the CSV file:\n",
        "data = pd.read_csv(\"/content/sample_data/data.csv\")"
      ],
      "metadata": {
        "id": "o5YwLQJrWRSy"
      },
      "execution_count": null,
      "outputs": []
    },
    {
      "cell_type": "code",
      "source": [
        "# Consider features we want to work on:\n",
        "X = data[[ 'Print orientation ( ° )', 'Raster orientation  ( ° )', 'Layer Thickness (mm)']]\n",
        "Y = data[\"Measured Compressive Strength (MPa)\"]\n",
        "\n",
        "\n",
        "# Generating training and testing data from our data:\n",
        "# We are using 80% data for training.\n",
        "train = data[:(int((len(data)*0.8)))]\n",
        "test = data[(int((len(data)*0.8))):]"
      ],
      "metadata": {
        "id": "RvasItjiWROs"
      },
      "execution_count": null,
      "outputs": []
    },
    {
      "cell_type": "code",
      "source": [
        "#Modeling:\n",
        "#Using sklearn package to model data :\n",
        "regr = linear_model.LinearRegression()\n",
        "train_x = np.array(train[['Print orientation ( ° )', 'Raster orientation  ( ° )', 'Layer Thickness (mm)']])\n",
        "train_y = np.array(train[\"Measured Compressive Strength (MPa)\"])\n",
        "test_x = np.array(test[[ 'Print orientation ( ° )', 'Raster orientation  ( ° )', 'Layer Thickness (mm)']])\n",
        "test_y = np.array(test[\"Measured Compressive Strength (MPa)\"])"
      ],
      "metadata": {
        "id": "YBlvF_igWRL5"
      },
      "execution_count": null,
      "outputs": []
    },
    {
      "cell_type": "code",
      "source": [
        "# Modeling:\n",
        "# Using sklearn package to model data :\n",
        "regr = linear_model.LinearRegression()\n",
        "train_x = np.array(train[['Print orientation ( ° )', 'Raster orientation  ( ° )', 'Layer Thickness (mm)']])\n",
        "train_y = np.array(train[[\"Measured Compressive Strength (MPa)\"]])\n",
        "regr.fit(train_x,train_y)"
      ],
      "metadata": {
        "colab": {
          "base_uri": "https://localhost:8080/"
        },
        "id": "c_6LN7V9WRHq",
        "outputId": "b163df46-cdcf-48ca-c285-05e3dbb7ca57"
      },
      "execution_count": null,
      "outputs": [
        {
          "output_type": "execute_result",
          "data": {
            "text/plain": [
              "LinearRegression()"
            ]
          },
          "metadata": {},
          "execution_count": 11
        }
      ]
    },
    {
      "cell_type": "code",
      "source": [
        "# Predicting values:\n",
        "# Function for predicting future values :\n",
        "def get_regression_predictions(input_features,intercept,slope):\n",
        " predicted_values = input_features*slope + intercept\n",
        " return predicted_values\n",
        "\n",
        "# Predicting emission for future car:\n",
        "global my_engine_size\n",
        "global estimatd_emission\n",
        "\n",
        "my_engine_size = 100\n",
        "estimatd_emission = get_regression_predictions(my_engine_size,regr.intercept_[0],regr.coef_[0][0])\n",
        "print (\"Estimated  :\",estimatd_emission)\n"
      ],
      "metadata": {
        "colab": {
          "base_uri": "https://localhost:8080/"
        },
        "id": "UcNeFb_hWRDb",
        "outputId": "e0627892-adca-45d6-9140-727451f7eb8c"
      },
      "execution_count": null,
      "outputs": [
        {
          "output_type": "stream",
          "name": "stdout",
          "text": [
            "Estimated  : 91.45111111111112\n"
          ]
        }
      ]
    },
    {
      "cell_type": "code",
      "source": [
        "plt.scatter(my_engine_size,estimatd_emission)\n",
        "plt.show()\n"
      ],
      "metadata": {
        "colab": {
          "base_uri": "https://localhost:8080/",
          "height": 265
        },
        "id": "AvfTtFHBWQ_D",
        "outputId": "a9af76b3-daa0-4f8c-cd18-ff7c466632d4"
      },
      "execution_count": null,
      "outputs": [
        {
          "output_type": "display_data",
          "data": {
            "text/plain": [
              "<Figure size 432x288 with 1 Axes>"
            ],
            "image/png": "[encoded data removed]"
          },
          "metadata": {
            "needs_background": "light"
          }
        }
      ]
    }
  ]
}